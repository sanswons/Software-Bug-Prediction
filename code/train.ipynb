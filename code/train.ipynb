{
 "cells": [
  {
   "cell_type": "code",
   "execution_count": 8,
   "metadata": {},
   "outputs": [],
   "source": [
    "import json\n",
    "import random\n",
    "\n",
    "import numpy as np\n",
    "import tensorflow as tf\n",
    "import encoder \n",
    "\n",
    "SEED = 42\n",
    "N_CTX = 128  # 512\n",
    "\n",
    "ENCODER_PATH = '../model/bpe.json'\n",
    "\n",
    "random.seed(SEED)\n",
    "np.random.seed(SEED)\n",
    "tf.set_random_seed(SEED)\n",
    "\n",
    "TEXT_ENCODER = Encoder.load(ENCODER_PATH)\n",
    "ENCODER = TEXT_ENCODER.word_vocab\n",
    "N_VOCAB = TEXT_ENCODER.vocab_size\n"
   ]
  },
  {
   "cell_type": "code",
   "execution_count": 9,
   "metadata": {},
   "outputs": [],
   "source": [
    "def transform_texts(list_of_texts):\n",
    "    tokens = TEXT_ENCODER.transform(list_of_texts, verbose=False)\n",
    "    n_batch = len(tokens)\n",
    "    xmb = np.zeros((n_batch, N_CTX, 2), dtype=np.int32)\n",
    "    mmb = np.zeros((n_batch, N_CTX), dtype=np.float32)\n",
    "    for i, x in enumerate(tokens):\n",
    "        x1 = x[:N_CTX]\n",
    "        l1 = len(x1)\n",
    "        print(l1)\n",
    "        xmb[i, :l1, 0] = x1\n",
    "        mmb[i, :l1] = 1\n",
    "    xmb[:, :, 1] = np.arange(N_VOCAB, N_VOCAB+N_CTX)\n",
    "    return xmb, mmb\n"
   ]
  }
 ],
 "metadata": {
  "kernelspec": {
   "display_name": "Python 3",
   "language": "python",
   "name": "python3"
  },
  "language_info": {
   "codemirror_mode": {
    "name": "ipython",
    "version": 3
   },
   "file_extension": ".py",
   "mimetype": "text/x-python",
   "name": "python",
   "nbconvert_exporter": "python",
   "pygments_lexer": "ipython3",
   "version": "3.5.3"
  }
 },
 "nbformat": 4,
 "nbformat_minor": 2
}
